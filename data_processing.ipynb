{
 "cells": [
  {
   "cell_type": "code",
   "execution_count": 1,
   "metadata": {},
   "outputs": [],
   "source": [
    "import json\n",
    "\n",
    "import pandas as pd\n",
    "\n",
    "PATH = \"./data/\""
   ]
  },
  {
   "cell_type": "code",
   "execution_count": 2,
   "metadata": {},
   "outputs": [],
   "source": [
    "years = [2016, 2017, 2018, 2019, 2021, 2022]\n",
    "\n",
    "code2country = {\n",
    "    \"AL\": 'Albania',\n",
    "    \"AM\": 'Armenia',\n",
    "    \"AU\": 'Australia',\n",
    "    \"AT\": 'Austria',\n",
    "    \"AZ\": 'Azerbaijan',\n",
    "    \"BY\": 'Belarus',\n",
    "    \"BE\": 'Belgium',\n",
    "    \"BA\": 'Bosnia and Herzegovina',\n",
    "    \"BG\": 'Bulgaria',\n",
    "    \"HR\": 'Croatia',\n",
    "    \"CY\": 'Cyprus',\n",
    "    \"CZ\": 'Czech Republic',\n",
    "    \"DK\": 'Denmark',\n",
    "    \"EE\": 'Estonia',\n",
    "    \"FI\": 'Finland',\n",
    "    \"FR\": 'France',\n",
    "    \"GE\": 'Georgia',\n",
    "    \"DE\": 'Germany',\n",
    "    \"GR\": 'Greece',\n",
    "    \"HU\": 'Hungary',\n",
    "    \"IS\": 'Iceland',\n",
    "    \"IE\": 'Ireland',\n",
    "    \"IL\": 'Israel',\n",
    "    \"IT\": 'Italy',\n",
    "    \"LV\": 'Latvia',\n",
    "    \"LT\": 'Lithuania',\n",
    "    \"MT\": 'Malta',\n",
    "    \"MD\": 'Moldova',\n",
    "    \"ME\": 'Montenegro',\n",
    "    \"NL\": 'Netherlands',\n",
    "    \"MK\": 'North Macedonia',\n",
    "    \"NO\": 'Norway',\n",
    "    \"PL\": 'Poland',\n",
    "    \"PT\": 'Portugal',\n",
    "    \"RO\": 'Romania',\n",
    "    \"RU\": 'Russia',\n",
    "    \"SM\": 'San Marino',\n",
    "    \"RS\": 'Serbia',\n",
    "    \"SI\": 'Slovenia',\n",
    "    \"ES\": 'Spain',\n",
    "    \"SE\": 'Sweden',\n",
    "    \"CH\": 'Switzerland',\n",
    "    \"UA\": 'Ukraine',\n",
    "    \"GB\": 'United Kingdom'\n",
    "}\n",
    "\n",
    "country2code = {v: k for k, v in code2country.items()}"
   ]
  },
  {
   "cell_type": "code",
   "execution_count": 3,
   "metadata": {},
   "outputs": [],
   "source": [
    "def get_eurovision_world_data(year):\n",
    "    path = f\"./data/Polls/Eurovision World Poll/{year}_eurovisionworld_results.csv\"\n",
    "    df = pd.read_csv(path, index_col=\"Contestant\")\n",
    "    return df\n",
    "\n",
    "\n",
    "countries_dict = {}\n",
    "for year in years:\n",
    "    df = get_eurovision_world_data(year)\n",
    "    countries = df.index.values.tolist()\n",
    "    countries = [(country2code[x], x) for x in countries]\n",
    "    countries.sort()\n",
    "\n",
    "    countries_dict[year] = countries\n",
    "\n",
    "with open(f\"{PATH}/countries.json\", \"w\") as file:\n",
    "    json.dump(countries_dict, file, indent=4)"
   ]
  },
  {
   "cell_type": "code",
   "execution_count": null,
   "metadata": {},
   "outputs": [],
   "source": []
  }
 ],
 "metadata": {
  "kernelspec": {
   "display_name": "artifact",
   "language": "python",
   "name": "python3"
  },
  "language_info": {
   "codemirror_mode": {
    "name": "ipython",
    "version": 3
   },
   "file_extension": ".py",
   "mimetype": "text/x-python",
   "name": "python",
   "nbconvert_exporter": "python",
   "pygments_lexer": "ipython3",
   "version": "3.8.16"
  },
  "orig_nbformat": 4
 },
 "nbformat": 4,
 "nbformat_minor": 2
}
