{
 "cells": [
  {
   "cell_type": "code",
   "execution_count": 1,
   "metadata": {},
   "outputs": [],
   "source": [
    "import json\n",
    "\n",
    "import pandas as pd\n",
    "\n",
    "PATH = \"./data/\""
   ]
  },
  {
   "cell_type": "code",
   "execution_count": 3,
   "metadata": {},
   "outputs": [],
   "source": [
    "years = [2016, 2017, 2018, 2019, 2021, 2022]\n",
    "\n",
    "\n",
    "def get_eurovision_world_data(year):\n",
    "    path = f\"./data/Polls/Eurovision World Poll/{year}_eurovisionworld_results.csv\"\n",
    "    df = pd.read_csv(path, index_col=\"Contestant\")\n",
    "    return df\n",
    "\n",
    "\n",
    "countries_dict = {}\n",
    "for year in years:\n",
    "    df = get_eurovision_world_data(year)\n",
    "    countries = df.index.values.tolist()\n",
    "    countries.sort()\n",
    "\n",
    "    countries_dict[year] = countries\n",
    "\n",
    "with open(f\"{PATH}/countries.json\", \"w\") as file:\n",
    "    json.dump(countries_dict, file, indent=4)"
   ]
  },
  {
   "cell_type": "code",
   "execution_count": null,
   "metadata": {},
   "outputs": [],
   "source": []
  }
 ],
 "metadata": {
  "kernelspec": {
   "display_name": "artifact",
   "language": "python",
   "name": "python3"
  },
  "language_info": {
   "codemirror_mode": {
    "name": "ipython",
    "version": 3
   },
   "file_extension": ".py",
   "mimetype": "text/x-python",
   "name": "python",
   "nbconvert_exporter": "python",
   "pygments_lexer": "ipython3",
   "version": "3.8.16"
  },
  "orig_nbformat": 4
 },
 "nbformat": 4,
 "nbformat_minor": 2
}
